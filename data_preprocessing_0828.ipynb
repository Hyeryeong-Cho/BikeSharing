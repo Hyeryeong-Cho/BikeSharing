{
 "cells": [
  {
   "cell_type": "markdown",
   "source": [
    "# 데이터 전처리\r\n",
    "\r\n",
    "데이터 출처 : [서울 열린 데이터 광장](https://github.com/vuski/SeoulBikeStationLocation)   \r\n",
    "대여소 데이터 출처 : https://github.com/vuski/SeoulBikeStationLocation"
   ],
   "metadata": {}
  },
  {
   "cell_type": "code",
   "execution_count": 2,
   "source": [
    "# 패키지\r\n",
    "import os\r\n",
    "\r\n",
    "import pandas as pd\r\n",
    "import numpy as np\r\n",
    "from tqdm import tqdm\r\n",
    "from datetime import datetime"
   ],
   "outputs": [],
   "metadata": {}
  },
  {
   "cell_type": "code",
   "execution_count": 3,
   "source": [
    "# 데이터 불러오기\r\n",
    "path = '../data/'\r\n",
    "df_2020 = pd.read_csv(path+'data_2020.csv')"
   ],
   "outputs": [
    {
     "output_type": "stream",
     "name": "stderr",
     "text": [
      "C:\\Users\\82103\\anaconda3\\envs\\quantum\\lib\\site-packages\\IPython\\core\\interactiveshell.py:3437: DtypeWarning: Columns (5,7) have mixed types.Specify dtype option on import or set low_memory=False.\n",
      "  exec(code_obj, self.user_global_ns, self.user_ns)\n"
     ]
    }
   ],
   "metadata": {}
  },
  {
   "cell_type": "code",
   "execution_count": 188,
   "source": [
    "point = pd.read_csv(path + '대여소위치.tsv', encoding = 'cp949', delimiter = '\\t')"
   ],
   "outputs": [],
   "metadata": {}
  },
  {
   "cell_type": "code",
   "execution_count": 5,
   "source": [
    "print(f'df_2020: {df_2020.shape}')\r\n",
    "print(f'point: {point.shape}')"
   ],
   "outputs": [
    {
     "output_type": "stream",
     "name": "stdout",
     "text": [
      "df_2020: (17421645, 12)\n",
      "point: (2290, 6)\n"
     ]
    }
   ],
   "metadata": {}
  },
  {
   "cell_type": "code",
   "execution_count": 6,
   "source": [
    "df_2020.head()"
   ],
   "outputs": [
    {
     "output_type": "execute_result",
     "data": {
      "text/plain": [
       "   Unnamed: 0      자전거번호                 대여일시  대여 대여소번호      대여 대여소명 대여거치대  \\\n",
       "0           0  SPB-04061  2020-01-01 00:01:04       429         송도병원     2   \n",
       "1           1  SPB-06686  2020-01-01 00:02:53      1637  KT 노원점 건물 앞    14   \n",
       "2           2  SPB-15937  2020-01-01 00:01:21      1924    삼부르네상스파크빌    10   \n",
       "3           3  SPB-14805  2020-01-01 00:03:12       437     대흥역 1번출구     1   \n",
       "4           4  SPB-09038  2020-01-01 00:01:11      1168  마곡엠밸리10단지 앞     5   \n",
       "\n",
       "                  반납일시 반납대여소번호        반납대여소명  반납거치대  이용시간   이용거리  \n",
       "0  2020-01-01 00:04:21   00372    약수역 3번출구 뒤      8   2.0    0.0  \n",
       "1  2020-01-01 00:04:48   01656  중앙하이츠 아파트 입구      9   1.0  350.0  \n",
       "2  2020-01-01 00:05:51   01955     디지털입구 교차로      7   4.0  800.0  \n",
       "3  2020-01-01 00:05:54   00126      서강대 후문 옆     18   2.0    0.0  \n",
       "4  2020-01-01 00:05:57   01152        마곡역교차로      2   4.0  660.0  "
      ],
      "text/html": [
       "<div>\n",
       "<style scoped>\n",
       "    .dataframe tbody tr th:only-of-type {\n",
       "        vertical-align: middle;\n",
       "    }\n",
       "\n",
       "    .dataframe tbody tr th {\n",
       "        vertical-align: top;\n",
       "    }\n",
       "\n",
       "    .dataframe thead th {\n",
       "        text-align: right;\n",
       "    }\n",
       "</style>\n",
       "<table border=\"1\" class=\"dataframe\">\n",
       "  <thead>\n",
       "    <tr style=\"text-align: right;\">\n",
       "      <th></th>\n",
       "      <th>Unnamed: 0</th>\n",
       "      <th>자전거번호</th>\n",
       "      <th>대여일시</th>\n",
       "      <th>대여 대여소번호</th>\n",
       "      <th>대여 대여소명</th>\n",
       "      <th>대여거치대</th>\n",
       "      <th>반납일시</th>\n",
       "      <th>반납대여소번호</th>\n",
       "      <th>반납대여소명</th>\n",
       "      <th>반납거치대</th>\n",
       "      <th>이용시간</th>\n",
       "      <th>이용거리</th>\n",
       "    </tr>\n",
       "  </thead>\n",
       "  <tbody>\n",
       "    <tr>\n",
       "      <th>0</th>\n",
       "      <td>0</td>\n",
       "      <td>SPB-04061</td>\n",
       "      <td>2020-01-01 00:01:04</td>\n",
       "      <td>429</td>\n",
       "      <td>송도병원</td>\n",
       "      <td>2</td>\n",
       "      <td>2020-01-01 00:04:21</td>\n",
       "      <td>00372</td>\n",
       "      <td>약수역 3번출구 뒤</td>\n",
       "      <td>8</td>\n",
       "      <td>2.0</td>\n",
       "      <td>0.0</td>\n",
       "    </tr>\n",
       "    <tr>\n",
       "      <th>1</th>\n",
       "      <td>1</td>\n",
       "      <td>SPB-06686</td>\n",
       "      <td>2020-01-01 00:02:53</td>\n",
       "      <td>1637</td>\n",
       "      <td>KT 노원점 건물 앞</td>\n",
       "      <td>14</td>\n",
       "      <td>2020-01-01 00:04:48</td>\n",
       "      <td>01656</td>\n",
       "      <td>중앙하이츠 아파트 입구</td>\n",
       "      <td>9</td>\n",
       "      <td>1.0</td>\n",
       "      <td>350.0</td>\n",
       "    </tr>\n",
       "    <tr>\n",
       "      <th>2</th>\n",
       "      <td>2</td>\n",
       "      <td>SPB-15937</td>\n",
       "      <td>2020-01-01 00:01:21</td>\n",
       "      <td>1924</td>\n",
       "      <td>삼부르네상스파크빌</td>\n",
       "      <td>10</td>\n",
       "      <td>2020-01-01 00:05:51</td>\n",
       "      <td>01955</td>\n",
       "      <td>디지털입구 교차로</td>\n",
       "      <td>7</td>\n",
       "      <td>4.0</td>\n",
       "      <td>800.0</td>\n",
       "    </tr>\n",
       "    <tr>\n",
       "      <th>3</th>\n",
       "      <td>3</td>\n",
       "      <td>SPB-14805</td>\n",
       "      <td>2020-01-01 00:03:12</td>\n",
       "      <td>437</td>\n",
       "      <td>대흥역 1번출구</td>\n",
       "      <td>1</td>\n",
       "      <td>2020-01-01 00:05:54</td>\n",
       "      <td>00126</td>\n",
       "      <td>서강대 후문 옆</td>\n",
       "      <td>18</td>\n",
       "      <td>2.0</td>\n",
       "      <td>0.0</td>\n",
       "    </tr>\n",
       "    <tr>\n",
       "      <th>4</th>\n",
       "      <td>4</td>\n",
       "      <td>SPB-09038</td>\n",
       "      <td>2020-01-01 00:01:11</td>\n",
       "      <td>1168</td>\n",
       "      <td>마곡엠밸리10단지 앞</td>\n",
       "      <td>5</td>\n",
       "      <td>2020-01-01 00:05:57</td>\n",
       "      <td>01152</td>\n",
       "      <td>마곡역교차로</td>\n",
       "      <td>2</td>\n",
       "      <td>4.0</td>\n",
       "      <td>660.0</td>\n",
       "    </tr>\n",
       "  </tbody>\n",
       "</table>\n",
       "</div>"
      ]
     },
     "metadata": {},
     "execution_count": 6
    }
   ],
   "metadata": {}
  },
  {
   "cell_type": "code",
   "execution_count": 7,
   "source": [
    "# 불필요한 열 삭제\r\n",
    "df_2020 = df_2020.drop(columns='Unnamed: 0', axis=1)"
   ],
   "outputs": [],
   "metadata": {}
  },
  {
   "cell_type": "code",
   "execution_count": 8,
   "source": [
    "columns_name = ['bike_id', 'rental_date', 'rental_point', 'rental_point_name', 'rental_point_rack', 'return_date', 'return_point', 'return_point_name', 'return_point_rack', 'hour_use', 'distance' ]\r\n",
    "df_2020.columns = columns_name"
   ],
   "outputs": [],
   "metadata": {}
  },
  {
   "cell_type": "code",
   "execution_count": 9,
   "source": [
    "data = df_2020.copy()"
   ],
   "outputs": [],
   "metadata": {}
  },
  {
   "cell_type": "markdown",
   "source": [
    "## 데이터 전처리\r\n",
    "### 1. 대여소,반납소명 오류로 한칸씩 밀린 경우  \r\n",
    "* distance가 null 값인 경우"
   ],
   "metadata": {}
  },
  {
   "cell_type": "code",
   "execution_count": 155,
   "source": [
    "error_data = pd.DataFrame(data[data.distance.isnull() == True])"
   ],
   "outputs": [],
   "metadata": {}
  },
  {
   "cell_type": "code",
   "execution_count": 156,
   "source": [
    "#  rental_point_name에서 오류 난 경우\r\n",
    "rental_error = error_data[error_data.rental_point_name.str.contains('\\?')]\r\n",
    "return_error = error_data[error_data.return_point_name.str.contains('\\?')]"
   ],
   "outputs": [],
   "metadata": {}
  },
  {
   "cell_type": "code",
   "execution_count": 157,
   "source": [
    "rental_error.head(3)"
   ],
   "outputs": [
    {
     "output_type": "execute_result",
     "data": {
      "text/plain": [
       "          bike_id          rental_date  rental_point rental_point_name  \\\n",
       "47102   SPB-09846  2020-01-03 06:51:33          1162     공항초등학교?풍覺?,8\"   \n",
       "80712   SPB-12017  2020-01-04 11:38:07          3509     세종사이?測淪閨?,11\"   \n",
       "203728  SPB-07700  2020-01-10 17:24:40          1984          구?慣맡?,7\"   \n",
       "\n",
       "          rental_point_rack return_date   return_point return_point_name  \\\n",
       "47102   2020-01-03 06:56:34       02701  마곡나루역 5번출구 뒤편                 8   \n",
       "80712   2020-01-04 11:41:35       03518      군자역 7번출구뒤                 7   \n",
       "203728  2020-01-10 17:56:46       02135       신림역 5번출구                 2   \n",
       "\n",
       "        return_point_rack  hour_use  distance  \n",
       "47102                   4     830.0       NaN  \n",
       "80712                   3     760.0       NaN  \n",
       "203728                 30    5360.0       NaN  "
      ],
      "text/html": [
       "<div>\n",
       "<style scoped>\n",
       "    .dataframe tbody tr th:only-of-type {\n",
       "        vertical-align: middle;\n",
       "    }\n",
       "\n",
       "    .dataframe tbody tr th {\n",
       "        vertical-align: top;\n",
       "    }\n",
       "\n",
       "    .dataframe thead th {\n",
       "        text-align: right;\n",
       "    }\n",
       "</style>\n",
       "<table border=\"1\" class=\"dataframe\">\n",
       "  <thead>\n",
       "    <tr style=\"text-align: right;\">\n",
       "      <th></th>\n",
       "      <th>bike_id</th>\n",
       "      <th>rental_date</th>\n",
       "      <th>rental_point</th>\n",
       "      <th>rental_point_name</th>\n",
       "      <th>rental_point_rack</th>\n",
       "      <th>return_date</th>\n",
       "      <th>return_point</th>\n",
       "      <th>return_point_name</th>\n",
       "      <th>return_point_rack</th>\n",
       "      <th>hour_use</th>\n",
       "      <th>distance</th>\n",
       "    </tr>\n",
       "  </thead>\n",
       "  <tbody>\n",
       "    <tr>\n",
       "      <th>47102</th>\n",
       "      <td>SPB-09846</td>\n",
       "      <td>2020-01-03 06:51:33</td>\n",
       "      <td>1162</td>\n",
       "      <td>공항초등학교?풍覺?,8\"</td>\n",
       "      <td>2020-01-03 06:56:34</td>\n",
       "      <td>02701</td>\n",
       "      <td>마곡나루역 5번출구 뒤편</td>\n",
       "      <td>8</td>\n",
       "      <td>4</td>\n",
       "      <td>830.0</td>\n",
       "      <td>NaN</td>\n",
       "    </tr>\n",
       "    <tr>\n",
       "      <th>80712</th>\n",
       "      <td>SPB-12017</td>\n",
       "      <td>2020-01-04 11:38:07</td>\n",
       "      <td>3509</td>\n",
       "      <td>세종사이?測淪閨?,11\"</td>\n",
       "      <td>2020-01-04 11:41:35</td>\n",
       "      <td>03518</td>\n",
       "      <td>군자역 7번출구뒤</td>\n",
       "      <td>7</td>\n",
       "      <td>3</td>\n",
       "      <td>760.0</td>\n",
       "      <td>NaN</td>\n",
       "    </tr>\n",
       "    <tr>\n",
       "      <th>203728</th>\n",
       "      <td>SPB-07700</td>\n",
       "      <td>2020-01-10 17:24:40</td>\n",
       "      <td>1984</td>\n",
       "      <td>구?慣맡?,7\"</td>\n",
       "      <td>2020-01-10 17:56:46</td>\n",
       "      <td>02135</td>\n",
       "      <td>신림역 5번출구</td>\n",
       "      <td>2</td>\n",
       "      <td>30</td>\n",
       "      <td>5360.0</td>\n",
       "      <td>NaN</td>\n",
       "    </tr>\n",
       "  </tbody>\n",
       "</table>\n",
       "</div>"
      ]
     },
     "metadata": {},
     "execution_count": 157
    }
   ],
   "metadata": {}
  },
  {
   "cell_type": "code",
   "execution_count": 158,
   "source": [
    "error_data.head(3)"
   ],
   "outputs": [
    {
     "output_type": "execute_result",
     "data": {
      "text/plain": [
       "         bike_id          rental_date  rental_point rental_point_name  \\\n",
       "47102  SPB-09846  2020-01-03 06:51:33          1162     공항초등학교?풍覺?,8\"   \n",
       "62480  SPB-02297  2020-01-03 17:37:10          1428            원묵고등학교   \n",
       "63437  SPB-16990  2020-01-03 18:11:04          1986           태평양물산빌딩   \n",
       "\n",
       "         rental_point_rack          return_date   return_point  \\\n",
       "47102  2020-01-03 06:56:34                02701  마곡나루역 5번출구 뒤편   \n",
       "62480                    6  2020-01-03 18:00:43          01428   \n",
       "63437                    5  2020-01-03 18:21:37          01916   \n",
       "\n",
       "      return_point_name  return_point_rack  hour_use  distance  \n",
       "47102                 8                  4     830.0       NaN  \n",
       "62480        원묵?玆紵閨?,6\"                 23       0.0       NaN  \n",
       "63437        ?막适峠閨낼?,2\"                 10    1570.0       NaN  "
      ],
      "text/html": [
       "<div>\n",
       "<style scoped>\n",
       "    .dataframe tbody tr th:only-of-type {\n",
       "        vertical-align: middle;\n",
       "    }\n",
       "\n",
       "    .dataframe tbody tr th {\n",
       "        vertical-align: top;\n",
       "    }\n",
       "\n",
       "    .dataframe thead th {\n",
       "        text-align: right;\n",
       "    }\n",
       "</style>\n",
       "<table border=\"1\" class=\"dataframe\">\n",
       "  <thead>\n",
       "    <tr style=\"text-align: right;\">\n",
       "      <th></th>\n",
       "      <th>bike_id</th>\n",
       "      <th>rental_date</th>\n",
       "      <th>rental_point</th>\n",
       "      <th>rental_point_name</th>\n",
       "      <th>rental_point_rack</th>\n",
       "      <th>return_date</th>\n",
       "      <th>return_point</th>\n",
       "      <th>return_point_name</th>\n",
       "      <th>return_point_rack</th>\n",
       "      <th>hour_use</th>\n",
       "      <th>distance</th>\n",
       "    </tr>\n",
       "  </thead>\n",
       "  <tbody>\n",
       "    <tr>\n",
       "      <th>47102</th>\n",
       "      <td>SPB-09846</td>\n",
       "      <td>2020-01-03 06:51:33</td>\n",
       "      <td>1162</td>\n",
       "      <td>공항초등학교?풍覺?,8\"</td>\n",
       "      <td>2020-01-03 06:56:34</td>\n",
       "      <td>02701</td>\n",
       "      <td>마곡나루역 5번출구 뒤편</td>\n",
       "      <td>8</td>\n",
       "      <td>4</td>\n",
       "      <td>830.0</td>\n",
       "      <td>NaN</td>\n",
       "    </tr>\n",
       "    <tr>\n",
       "      <th>62480</th>\n",
       "      <td>SPB-02297</td>\n",
       "      <td>2020-01-03 17:37:10</td>\n",
       "      <td>1428</td>\n",
       "      <td>원묵고등학교</td>\n",
       "      <td>6</td>\n",
       "      <td>2020-01-03 18:00:43</td>\n",
       "      <td>01428</td>\n",
       "      <td>원묵?玆紵閨?,6\"</td>\n",
       "      <td>23</td>\n",
       "      <td>0.0</td>\n",
       "      <td>NaN</td>\n",
       "    </tr>\n",
       "    <tr>\n",
       "      <th>63437</th>\n",
       "      <td>SPB-16990</td>\n",
       "      <td>2020-01-03 18:11:04</td>\n",
       "      <td>1986</td>\n",
       "      <td>태평양물산빌딩</td>\n",
       "      <td>5</td>\n",
       "      <td>2020-01-03 18:21:37</td>\n",
       "      <td>01916</td>\n",
       "      <td>?막适峠閨낼?,2\"</td>\n",
       "      <td>10</td>\n",
       "      <td>1570.0</td>\n",
       "      <td>NaN</td>\n",
       "    </tr>\n",
       "  </tbody>\n",
       "</table>\n",
       "</div>"
      ]
     },
     "metadata": {},
     "execution_count": 158
    }
   ],
   "metadata": {}
  },
  {
   "cell_type": "code",
   "execution_count": 159,
   "source": [
    "print(f'총 에러 데이터 개수: {error_data.shape[0]}')\r\n",
    "print(f'대여에서 밀린 개수: {rental_error.shape[0]}')\r\n",
    "print(f'반납에서 밀린 개수: {return_error.shape[0]}')\r\n",
    "print(f'에러데이터와 대여/반납 데이터 차이 : {error_data.shape[0]-rental_error.shape[0]-return_error.shape[0]}')"
   ],
   "outputs": [
    {
     "output_type": "stream",
     "name": "stdout",
     "text": [
      "총 에러 데이터 개수: 111\n",
      "대여에서 밀린 개수: 47\n",
      "반납에서 밀린 개수: 64\n",
      "에러데이터와 대여/반납 데이터 차이 : 0\n"
     ]
    }
   ],
   "metadata": {}
  },
  {
   "cell_type": "code",
   "execution_count": 250,
   "source": [
    "for idx ,row in rental_error.iterrows():\r\n",
    "    if row.rental_point_name.find('/?'):\r\n",
    "        row[5:] =  row[4:-1] # 한 칸 밀기\r\n",
    "        row.rental_point_rack = pd.to_numeric(row.rental_point_name[-2]) # 거치대 수 : 대여소명 마지막 숫자\r\n",
    "        error_data.loc[idx] = row # 인덱스로 raw_data에서 변경\r\n",
    "        # df_2020.loc[idx] = row"
   ],
   "outputs": [],
   "metadata": {}
  },
  {
   "cell_type": "code",
   "execution_count": 161,
   "source": [
    "for idx ,row in rental_error.iterrows():\r\n",
    "    if row.rental_point_name.find('/?'):\r\n",
    "        row[5:] =  row[4:-1] # 한 칸 밀기\r\n",
    "        row.rental_point_rack = pd.to_numeric(row.rental_point_name[-2]) # 거치대 수 : 대여소명 마지막 숫자\r\n",
    "        error_data.loc[idx] = row # 인덱스로 raw_data에서 변경"
   ],
   "outputs": [],
   "metadata": {}
  },
  {
   "cell_type": "code",
   "execution_count": 162,
   "source": [
    "for idx ,row in return_error.iterrows():\r\n",
    "    if row.return_point_name.find('/?'):\r\n",
    "        row[9:] =  row[8:-1] # 한 칸 밀기\r\n",
    "        row.return_point_rack = int(row.return_point_name[-2]) # 거치대 수 : 대여소명 마지막 숫자\r\n",
    "        error_data.loc[idx] = row # 인덱스로 raw_data에서 변경"
   ],
   "outputs": [],
   "metadata": {}
  },
  {
   "cell_type": "markdown",
   "source": [
    "### 2.  대여소 id\r\n",
    "-> error 데이터 대여소 명 변경"
   ],
   "metadata": {}
  },
  {
   "cell_type": "code",
   "execution_count": 189,
   "source": [
    "# point.reset_index(drop=True)\r\n",
    "point  = point.set_index(['stationIndex'],drop=True)"
   ],
   "outputs": [],
   "metadata": {}
  },
  {
   "cell_type": "code",
   "execution_count": 165,
   "source": [
    "# 타입 변경\r\n",
    "error_data.rental_point = error_data.rental_point.apply(int)\r\n",
    "error_data.return_point = error_data.return_point.apply(int)"
   ],
   "outputs": [],
   "metadata": {}
  },
  {
   "cell_type": "code",
   "execution_count": 191,
   "source": [
    "point.loc[1986, 'name']"
   ],
   "outputs": [
    {
     "output_type": "execute_result",
     "data": {
      "text/plain": [
       "'1986. 태평양물산빌딩'"
      ]
     },
     "metadata": {},
     "execution_count": 191
    }
   ],
   "metadata": {}
  },
  {
   "cell_type": "code",
   "execution_count": 232,
   "source": [
    "for i in point.loc[point.name.str.contains('\\.'),'name'].index:\r\n",
    "   point.loc[i,'name'] = point.loc[i,'name'].split('.')[-1]"
   ],
   "outputs": [],
   "metadata": {}
  },
  {
   "cell_type": "code",
   "execution_count": 242,
   "source": [
    "for idx, row in e.iterrows():\r\n",
    "    if row.rental_point_name.find('\\?'):\r\n",
    "        row.rental_point_name = point.loc[row.rental_point, 'name']\r\n",
    "        error_data.loc[idx, 'rental_point_name'] = row.rental_point_name"
   ],
   "outputs": [],
   "metadata": {}
  },
  {
   "cell_type": "code",
   "execution_count": 244,
   "source": [
    "for idx, row in e.iterrows():\r\n",
    "    if row.return_point_name.find('\\?'):\r\n",
    "        row.return_point_name = point.loc[row.return_point, 'name']\r\n",
    "        error_data.loc[idx, 'return_point_name'] = row.return_point_name"
   ],
   "outputs": [],
   "metadata": {}
  },
  {
   "cell_type": "code",
   "execution_count": 259,
   "source": [
    "for i in tqdm(error_data.index, desc=\"progress:\"):\r\n",
    "    # print(i)\r\n",
    "    data.loc[i] = error_data.loc[i]\r\n"
   ],
   "outputs": [
    {
     "output_type": "stream",
     "name": "stderr",
     "text": [
      "progress:: 100%|██████████| 111/111 [06:29<00:00,  3.51s/it]\n"
     ]
    }
   ],
   "metadata": {}
  },
  {
   "cell_type": "code",
   "execution_count": 260,
   "source": [
    "data.distance.isnull().sum()"
   ],
   "outputs": [
    {
     "output_type": "execute_result",
     "data": {
      "text/plain": [
       "0"
      ]
     },
     "metadata": {},
     "execution_count": 260
    }
   ],
   "metadata": {}
  },
  {
   "cell_type": "code",
   "execution_count": 261,
   "source": [
    "data"
   ],
   "outputs": [
    {
     "output_type": "execute_result",
     "data": {
      "text/plain": [
       "            bike_id          rental_date  rental_point rental_point_name  \\\n",
       "0         SPB-04061  2020-01-01 00:01:04           429              송도병원   \n",
       "1         SPB-06686  2020-01-01 00:02:53          1637       KT 노원점 건물 앞   \n",
       "2         SPB-15937  2020-01-01 00:01:21          1924         삼부르네상스파크빌   \n",
       "3         SPB-14805  2020-01-01 00:03:12           437          대흥역 1번출구   \n",
       "4         SPB-09038  2020-01-01 00:01:11          1168       마곡엠밸리10단지 앞   \n",
       "...             ...                  ...           ...               ...   \n",
       "17421640  SPB-32394     2020-05-14 20:12           502     뚝섬유원지역 1번출구 앞   \n",
       "17421641  SPB-31606     2020-05-14 19:25           128   신촌역(2호선) 1번출구 옆   \n",
       "17421642  SPB-30988     2020-05-14 19:25           278        쌍용플레티넘오피스텔   \n",
       "17421643  SPB-31046     2020-05-14 19:27           913           이마트 은평점   \n",
       "17421644  SPB-32797     2020-05-14 20:11          1020             강동경찰서   \n",
       "\n",
       "         rental_point_rack          return_date return_point  \\\n",
       "0                        2  2020-01-01 00:04:21        00372   \n",
       "1                       14  2020-01-01 00:04:48        01656   \n",
       "2                       10  2020-01-01 00:05:51        01955   \n",
       "3                        1  2020-01-01 00:05:54        00126   \n",
       "4                        5  2020-01-01 00:05:57        01152   \n",
       "...                    ...                  ...          ...   \n",
       "17421640                 0     2020-05-14 20:14          502   \n",
       "17421641                 0     2020-05-14 20:14         2013   \n",
       "17421642                 0     2020-05-14 20:14          227   \n",
       "17421643                 0     2020-05-14 20:14          123   \n",
       "17421644                 0     2020-05-14 20:14         1013   \n",
       "\n",
       "         return_point_name return_point_rack  hour_use  distance  \n",
       "0               약수역 3번출구 뒤                 8       2.0       0.0  \n",
       "1             중앙하이츠 아파트 입구                 9       1.0     350.0  \n",
       "2                디지털입구 교차로                 7       4.0     800.0  \n",
       "3                 서강대 후문 옆                18       2.0       0.0  \n",
       "4                   마곡역교차로                 2       4.0     660.0  \n",
       "...                    ...               ...       ...       ...  \n",
       "17421640     뚝섬유원지역 1번출구 앞                 0       2.0       0.0  \n",
       "17421641        장승배기역 5번출구                 0      50.0       0.0  \n",
       "17421642    양평2나들목 보행통로 입구                 0      50.0       0.0  \n",
       "17421643            문화촌 공원                 0      48.0       0.0  \n",
       "17421644      강동구청역 1번 출입구                 0       4.0       0.0  \n",
       "\n",
       "[17421645 rows x 11 columns]"
      ],
      "text/html": [
       "<div>\n",
       "<style scoped>\n",
       "    .dataframe tbody tr th:only-of-type {\n",
       "        vertical-align: middle;\n",
       "    }\n",
       "\n",
       "    .dataframe tbody tr th {\n",
       "        vertical-align: top;\n",
       "    }\n",
       "\n",
       "    .dataframe thead th {\n",
       "        text-align: right;\n",
       "    }\n",
       "</style>\n",
       "<table border=\"1\" class=\"dataframe\">\n",
       "  <thead>\n",
       "    <tr style=\"text-align: right;\">\n",
       "      <th></th>\n",
       "      <th>bike_id</th>\n",
       "      <th>rental_date</th>\n",
       "      <th>rental_point</th>\n",
       "      <th>rental_point_name</th>\n",
       "      <th>rental_point_rack</th>\n",
       "      <th>return_date</th>\n",
       "      <th>return_point</th>\n",
       "      <th>return_point_name</th>\n",
       "      <th>return_point_rack</th>\n",
       "      <th>hour_use</th>\n",
       "      <th>distance</th>\n",
       "    </tr>\n",
       "  </thead>\n",
       "  <tbody>\n",
       "    <tr>\n",
       "      <th>0</th>\n",
       "      <td>SPB-04061</td>\n",
       "      <td>2020-01-01 00:01:04</td>\n",
       "      <td>429</td>\n",
       "      <td>송도병원</td>\n",
       "      <td>2</td>\n",
       "      <td>2020-01-01 00:04:21</td>\n",
       "      <td>00372</td>\n",
       "      <td>약수역 3번출구 뒤</td>\n",
       "      <td>8</td>\n",
       "      <td>2.0</td>\n",
       "      <td>0.0</td>\n",
       "    </tr>\n",
       "    <tr>\n",
       "      <th>1</th>\n",
       "      <td>SPB-06686</td>\n",
       "      <td>2020-01-01 00:02:53</td>\n",
       "      <td>1637</td>\n",
       "      <td>KT 노원점 건물 앞</td>\n",
       "      <td>14</td>\n",
       "      <td>2020-01-01 00:04:48</td>\n",
       "      <td>01656</td>\n",
       "      <td>중앙하이츠 아파트 입구</td>\n",
       "      <td>9</td>\n",
       "      <td>1.0</td>\n",
       "      <td>350.0</td>\n",
       "    </tr>\n",
       "    <tr>\n",
       "      <th>2</th>\n",
       "      <td>SPB-15937</td>\n",
       "      <td>2020-01-01 00:01:21</td>\n",
       "      <td>1924</td>\n",
       "      <td>삼부르네상스파크빌</td>\n",
       "      <td>10</td>\n",
       "      <td>2020-01-01 00:05:51</td>\n",
       "      <td>01955</td>\n",
       "      <td>디지털입구 교차로</td>\n",
       "      <td>7</td>\n",
       "      <td>4.0</td>\n",
       "      <td>800.0</td>\n",
       "    </tr>\n",
       "    <tr>\n",
       "      <th>3</th>\n",
       "      <td>SPB-14805</td>\n",
       "      <td>2020-01-01 00:03:12</td>\n",
       "      <td>437</td>\n",
       "      <td>대흥역 1번출구</td>\n",
       "      <td>1</td>\n",
       "      <td>2020-01-01 00:05:54</td>\n",
       "      <td>00126</td>\n",
       "      <td>서강대 후문 옆</td>\n",
       "      <td>18</td>\n",
       "      <td>2.0</td>\n",
       "      <td>0.0</td>\n",
       "    </tr>\n",
       "    <tr>\n",
       "      <th>4</th>\n",
       "      <td>SPB-09038</td>\n",
       "      <td>2020-01-01 00:01:11</td>\n",
       "      <td>1168</td>\n",
       "      <td>마곡엠밸리10단지 앞</td>\n",
       "      <td>5</td>\n",
       "      <td>2020-01-01 00:05:57</td>\n",
       "      <td>01152</td>\n",
       "      <td>마곡역교차로</td>\n",
       "      <td>2</td>\n",
       "      <td>4.0</td>\n",
       "      <td>660.0</td>\n",
       "    </tr>\n",
       "    <tr>\n",
       "      <th>...</th>\n",
       "      <td>...</td>\n",
       "      <td>...</td>\n",
       "      <td>...</td>\n",
       "      <td>...</td>\n",
       "      <td>...</td>\n",
       "      <td>...</td>\n",
       "      <td>...</td>\n",
       "      <td>...</td>\n",
       "      <td>...</td>\n",
       "      <td>...</td>\n",
       "      <td>...</td>\n",
       "    </tr>\n",
       "    <tr>\n",
       "      <th>17421640</th>\n",
       "      <td>SPB-32394</td>\n",
       "      <td>2020-05-14 20:12</td>\n",
       "      <td>502</td>\n",
       "      <td>뚝섬유원지역 1번출구 앞</td>\n",
       "      <td>0</td>\n",
       "      <td>2020-05-14 20:14</td>\n",
       "      <td>502</td>\n",
       "      <td>뚝섬유원지역 1번출구 앞</td>\n",
       "      <td>0</td>\n",
       "      <td>2.0</td>\n",
       "      <td>0.0</td>\n",
       "    </tr>\n",
       "    <tr>\n",
       "      <th>17421641</th>\n",
       "      <td>SPB-31606</td>\n",
       "      <td>2020-05-14 19:25</td>\n",
       "      <td>128</td>\n",
       "      <td>신촌역(2호선) 1번출구 옆</td>\n",
       "      <td>0</td>\n",
       "      <td>2020-05-14 20:14</td>\n",
       "      <td>2013</td>\n",
       "      <td>장승배기역 5번출구</td>\n",
       "      <td>0</td>\n",
       "      <td>50.0</td>\n",
       "      <td>0.0</td>\n",
       "    </tr>\n",
       "    <tr>\n",
       "      <th>17421642</th>\n",
       "      <td>SPB-30988</td>\n",
       "      <td>2020-05-14 19:25</td>\n",
       "      <td>278</td>\n",
       "      <td>쌍용플레티넘오피스텔</td>\n",
       "      <td>0</td>\n",
       "      <td>2020-05-14 20:14</td>\n",
       "      <td>227</td>\n",
       "      <td>양평2나들목 보행통로 입구</td>\n",
       "      <td>0</td>\n",
       "      <td>50.0</td>\n",
       "      <td>0.0</td>\n",
       "    </tr>\n",
       "    <tr>\n",
       "      <th>17421643</th>\n",
       "      <td>SPB-31046</td>\n",
       "      <td>2020-05-14 19:27</td>\n",
       "      <td>913</td>\n",
       "      <td>이마트 은평점</td>\n",
       "      <td>0</td>\n",
       "      <td>2020-05-14 20:14</td>\n",
       "      <td>123</td>\n",
       "      <td>문화촌 공원</td>\n",
       "      <td>0</td>\n",
       "      <td>48.0</td>\n",
       "      <td>0.0</td>\n",
       "    </tr>\n",
       "    <tr>\n",
       "      <th>17421644</th>\n",
       "      <td>SPB-32797</td>\n",
       "      <td>2020-05-14 20:11</td>\n",
       "      <td>1020</td>\n",
       "      <td>강동경찰서</td>\n",
       "      <td>0</td>\n",
       "      <td>2020-05-14 20:14</td>\n",
       "      <td>1013</td>\n",
       "      <td>강동구청역 1번 출입구</td>\n",
       "      <td>0</td>\n",
       "      <td>4.0</td>\n",
       "      <td>0.0</td>\n",
       "    </tr>\n",
       "  </tbody>\n",
       "</table>\n",
       "<p>17421645 rows × 11 columns</p>\n",
       "</div>"
      ]
     },
     "metadata": {},
     "execution_count": 261
    }
   ],
   "metadata": {}
  }
 ],
 "metadata": {
  "orig_nbformat": 4,
  "language_info": {
   "name": "python",
   "version": "3.8.10",
   "mimetype": "text/x-python",
   "codemirror_mode": {
    "name": "ipython",
    "version": 3
   },
   "pygments_lexer": "ipython3",
   "nbconvert_exporter": "python",
   "file_extension": ".py"
  },
  "kernelspec": {
   "name": "python3",
   "display_name": "Python 3.8.10 64-bit ('quantum': conda)"
  },
  "interpreter": {
   "hash": "e47b8a4f3acce32868f8270ac76768021906721b08af0a806aadcbc5b0859d28"
  }
 },
 "nbformat": 4,
 "nbformat_minor": 2
}