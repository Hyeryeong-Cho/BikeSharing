{
 "cells": [
  {
   "cell_type": "markdown",
   "source": [
    "# 데이터 취합\r\n",
    "\r\n",
    "* 데이터 출처 : [서울 열린데이터 광장](http://data.seoul.go.kr/dataList/OA-15182/F/1/datasetView.do#))  \r\n",
    "\r\n",
    "* train data : 2020년 데이터   \r\n",
    "* test data : 2021년 데이터 (21.01.01~ 21.06.31)"
   ],
   "metadata": {}
  },
  {
   "cell_type": "code",
   "execution_count": 33,
   "source": [
    "# 해당 폴더에 있는 파일 모두 가져오기\r\n",
    "path = './BikeSharing/data/data_2021/'\r\n",
    "file_list = os.listdir(path)\r\n",
    "file_list_2021 = [file for file in file_list if file.endswith('csv')]"
   ],
   "outputs": [],
   "metadata": {}
  },
  {
   "cell_type": "code",
   "execution_count": 34,
   "source": [
    "file_list_2021"
   ],
   "outputs": [
    {
     "output_type": "execute_result",
     "data": {
      "text/plain": [
       "['공공자전거 대여이력 정보_2021.01.csv',\n",
       " '공공자전거 대여이력 정보_2021.02.csv',\n",
       " '공공자전거 대여이력 정보_2021.03.csv',\n",
       " '공공자전거 대여이력 정보_2021.04.csv',\n",
       " '공공자전거 대여이력 정보_2021.05.csv',\n",
       " '공공자전거 대여이력 정보_2021.06.csv']"
      ]
     },
     "metadata": {},
     "execution_count": 34
    }
   ],
   "metadata": {}
  },
  {
   "cell_type": "code",
   "execution_count": 46,
   "source": [
    "# 한 DataFrame으로 concat\r\n",
    "df_2021 = pd.DataFrame()\r\n",
    "\r\n",
    "for f in file_list_2021:\r\n",
    "    file_name = path + f\r\n",
    "    data = pd.read_csv(file_name, encoding='cp949') #encoding 오류해결\r\n",
    "    df_2021 = pd.concat([df_2021, data])\r\n",
    "\r\n",
    "df_2021 = df_2021.reset_index(drop=True)"
   ],
   "outputs": [
    {
     "output_type": "stream",
     "name": "stderr",
     "text": [
      "C:\\Users\\82103\\anaconda3\\envs\\quantum\\lib\\site-packages\\IPython\\core\\interactiveshell.py:3437: DtypeWarning: Columns (4,6) have mixed types.Specify dtype option on import or set low_memory=False.\n",
      "  exec(code_obj, self.user_global_ns, self.user_ns)\n"
     ]
    }
   ],
   "metadata": {}
  },
  {
   "cell_type": "code",
   "execution_count": 70,
   "source": [
    "print(f'df_2021 : {df_2021.shape}')"
   ],
   "outputs": [
    {
     "output_type": "stream",
     "name": "stdout",
     "text": [
      "df_2021 : (13613873, 11)\n"
     ]
    }
   ],
   "metadata": {}
  },
  {
   "cell_type": "code",
   "execution_count": 48,
   "source": [
    "df_2021.to_csv('./BikeSharing/data/data_2021.csv')"
   ],
   "outputs": [],
   "metadata": {}
  },
  {
   "cell_type": "code",
   "execution_count": 49,
   "source": [
    "# 2020 폴더에 있는 파일 모두 가져오기\r\n",
    "path = './BikeSharing/data/data_2020/'\r\n",
    "file_list = os.listdir(path)\r\n",
    "file_list_2020 = [file for file in file_list if file.endswith('csv')]"
   ],
   "outputs": [],
   "metadata": {}
  },
  {
   "cell_type": "code",
   "execution_count": 50,
   "source": [
    "file_list_2020"
   ],
   "outputs": [
    {
     "output_type": "execute_result",
     "data": {
      "text/plain": [
       "['공공자전거 대여이력 정보_2020.01.csv',\n",
       " '공공자전거 대여이력 정보_2020.02.csv',\n",
       " '공공자전거 대여이력 정보_2020.03.csv',\n",
       " '공공자전거 대여이력 정보_2020.04.csv',\n",
       " '공공자전거 대여이력 정보_2020.05.csv',\n",
       " '공공자전거 대여이력 정보_2020.07_08.csv',\n",
       " '공공자전거 대여이력 정보_2020.09.csv',\n",
       " '공공자전거 대여이력 정보_2020.10.csv',\n",
       " '공공자전거 대여이력 정보_2020.11.csv',\n",
       " '공공자전거 대여이력 정보_2020.12.csv',\n",
       " '공공자전거 대여이력 정보_202006.csv']"
      ]
     },
     "metadata": {},
     "execution_count": 50
    }
   ],
   "metadata": {}
  },
  {
   "cell_type": "code",
   "execution_count": 57,
   "source": [
    "# 한 DataFrame으로 concat\r\n",
    "df_2020 = pd.DataFrame()\r\n",
    "\r\n",
    "for f in tqdm(file_list_2020):\r\n",
    "    file_name = path + f\r\n",
    "    try:\r\n",
    "        data = pd.read_csv(file_name, encoding='cp949') #encoding 오류해결\r\n",
    "        df_2020 = pd.concat([df_2020, data])\r\n",
    "    except UnicodeDecodeError: \r\n",
    "        print(f'{file_name}저장 시 UnicodeDecodeError 오류 발생!')\r\n",
    "        pass\r\n",
    "\r\n",
    "df_2020 = df_2020.reset_index(drop=True)\r\n",
    "\r\n",
    "print(f'df_2020 : {df_2020.shape}')"
   ],
   "outputs": [
    {
     "output_type": "stream",
     "name": "stderr",
     "text": [
      "  0%|          | 0/11 [00:00<?, ?it/s]C:\\Users\\82103\\anaconda3\\envs\\quantum\\lib\\site-packages\\IPython\\core\\interactiveshell.py:3437: DtypeWarning: Columns (4,6) have mixed types.Specify dtype option on import or set low_memory=False.\n",
      "  exec(code_obj, self.user_global_ns, self.user_ns)\n",
      " 36%|███▋      | 4/11 [00:20<00:40,  5.73s/it]"
     ]
    },
    {
     "output_type": "stream",
     "name": "stdout",
     "text": [
      "./BikeSharing/data/data_2020/공공자전거 대여이력 정보_2020.05.csv저장 시 UnicodeDecodeError 오류 발생!\n"
     ]
    },
    {
     "output_type": "stream",
     "name": "stderr",
     "text": [
      "100%|██████████| 11/11 [01:35<00:00,  8.65s/it]\n"
     ]
    },
    {
     "output_type": "stream",
     "name": "stdout",
     "text": [
      "(16373070, 11)\n"
     ]
    }
   ],
   "metadata": {}
  },
  {
   "cell_type": "code",
   "execution_count": 68,
   "source": [
    "# 5월 데이터 오류 나서 로컬에서 uft8로 인코딩해서 저장한 후 다시 불러오기\r\n",
    "data_05= pd.read_csv(path + '공공자전거 대여이력 정보_2020.05.csv', encoding='utf-8')"
   ],
   "outputs": [
    {
     "output_type": "stream",
     "name": "stderr",
     "text": [
      "C:\\Users\\82103\\anaconda3\\envs\\quantum\\lib\\site-packages\\IPython\\core\\interactiveshell.py:3437: DtypeWarning: Columns (4,6) have mixed types.Specify dtype option on import or set low_memory=False.\n",
      "  exec(code_obj, self.user_global_ns, self.user_ns)\n"
     ]
    }
   ],
   "metadata": {}
  },
  {
   "cell_type": "code",
   "execution_count": 69,
   "source": [
    "df_2020 = pd.concat([df_2020, data_05])\r\n",
    "df_2020 = df_2020.reset_index(drop=True)"
   ],
   "outputs": [],
   "metadata": {}
  },
  {
   "cell_type": "code",
   "execution_count": 71,
   "source": [
    "print(f'df_2020 : {df_2020.shape}')"
   ],
   "outputs": [
    {
     "output_type": "stream",
     "name": "stdout",
     "text": [
      "df_2020 : (17421645, 11)\n"
     ]
    }
   ],
   "metadata": {}
  },
  {
   "cell_type": "code",
   "execution_count": 72,
   "source": [
    "df_2020.to_csv('./BikeSharing/data/data_2020.csv')"
   ],
   "outputs": [],
   "metadata": {}
  }
 ],
 "metadata": {
  "orig_nbformat": 4,
  "language_info": {
   "name": "python",
   "version": "3.8.10",
   "mimetype": "text/x-python",
   "codemirror_mode": {
    "name": "ipython",
    "version": 3
   },
   "pygments_lexer": "ipython3",
   "nbconvert_exporter": "python",
   "file_extension": ".py"
  },
  "kernelspec": {
   "name": "python3",
   "display_name": "Python 3.8.10 64-bit ('quantum': conda)"
  },
  "interpreter": {
   "hash": "e47b8a4f3acce32868f8270ac76768021906721b08af0a806aadcbc5b0859d28"
  }
 },
 "nbformat": 4,
 "nbformat_minor": 2
}